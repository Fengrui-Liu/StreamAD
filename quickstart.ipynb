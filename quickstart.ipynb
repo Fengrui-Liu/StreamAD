{
 "cells": [
  {
   "cell_type": "markdown",
   "metadata": {},
   "source": [
    "# Example usage\n",
    "\n",
    "This the the example usage of StreamAD."
   ]
  },
  {
   "cell_type": "code",
   "execution_count": 1,
   "metadata": {},
   "outputs": [],
   "source": [
    "import os\n",
    "import sys\n",
    "\n",
    "sys.path.append(os.path.abspath(os.path.join(os.path.dirname(\"__file__\"), \"../..\")))\n",
    "\n",
    "import numpy as np \n",
    "import pandas as pd \n",
    "from streamad.util import MultivariateDS, UnivariateDS\n",
    "from streamad.util import StreamGenerator\n",
    "from streamad.model import *\n",
    "from streamad.util import StreamStatistic\n",
    "from streamad.util import AUCMetric\n",
    "\n",
    "eval = AUCMetric()\n",
    "\n",
    "uni_models = {\n",
    "    KNNDetector: {\"init_len\": 100, \"k_neighbor\": 25},\n",
    "    SpotDetector: {}\n",
    "    }\n",
    "    \n",
    "multi_models = {\n",
    "    xStreamDetector : {}\n",
    "}"
   ]
  },
  {
   "cell_type": "markdown",
   "metadata": {},
   "source": [
    "Load numpy data to StreamGenerator and get random results from RandomDetector. "
   ]
  },
  {
   "cell_type": "code",
   "execution_count": 2,
   "metadata": {
    "tags": []
   },
   "outputs": [
    {
     "name": "stdout",
     "output_type": "stream",
     "text": [
      " Anomaly score: 0.0\n",
      " AUC_ROC metrics evaluation: 0.9999000799360511\n"
     ]
    }
   ],
   "source": [
    "\n",
    "ds = UnivariateDS()\n",
    "data = ds.data\n",
    "label = ds.label\n",
    "stream = StreamGenerator(data,label,shuffle=False)\n",
    "model = SpotDetector()\n",
    "\n",
    "for X,y in stream.iter_item():\n",
    "    score = model.fit_score(X)\n",
    "\n",
    "    eval.update(y,score)\n",
    "    print(\"\\r Anomaly score: {}\".format(score), end=\"\",flush=\"True\")\n",
    "\n",
    "print('\\n AUC_ROC metrics evaluation:',eval.evaluate())"
   ]
  },
  {
   "cell_type": "markdown",
   "metadata": {},
   "source": [
    "Load pandas Dataframe to StreamGenerator and get random results from RandomDetector."
   ]
  },
  {
   "cell_type": "code",
   "execution_count": 2,
   "metadata": {},
   "outputs": [
    {
     "name": "stdout",
     "output_type": "stream",
     "text": [
      " Anomaly score: 0.4555483452303699, count 3082\n",
      " AUC_ROC metrics evaluation: 0.7309615132441647\n"
     ]
    }
   ],
   "source": [
    "\n",
    "ds = MultivariateDS()\n",
    "data = pd.DataFrame(ds.data) \n",
    "label = pd.DataFrame(ds.label)\n",
    "stream = StreamGenerator(data,label,shuffle=False)\n",
    "model = xStreamDetector()\n",
    "\n",
    "for X,y in stream.iter_item():\n",
    "    score = model.fit_score(X)\n",
    "    eval.update(y,score)\n",
    "    print(\"\\r Anomaly score: {}\".format(score), end=\"\",flush=\"True\")\n",
    "\n",
    "print('\\n AUC_ROC metrics evaluation:',eval.evaluate())"
   ]
  }
 ],
 "metadata": {
  "kernelspec": {
   "display_name": "Python 3",
   "language": "python",
   "name": "python3"
  },
  "language_info": {
   "codemirror_mode": {
    "name": "ipython",
    "version": 3
   },
   "file_extension": ".py",
   "mimetype": "text/x-python",
   "name": "python",
   "nbconvert_exporter": "python",
   "pygments_lexer": "ipython3",
   "version": "3.7.9-final"
  }
 },
 "nbformat": 4,
 "nbformat_minor": 2
}
